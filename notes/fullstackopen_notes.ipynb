{
 "cells": [
  {
   "cell_type": "markdown",
   "metadata": {},
   "source": [
    "---\n",
    "\n",
    "# <a id=\"top\">Full Stack Open Notes</a>\n",
    "\n",
    "https://www.fullstackopen.com/en\n",
    "\n",
    "---"
   ]
  },
  {
   "cell_type": "markdown",
   "metadata": {},
   "source": [
    "## Description\n",
    "\n",
    "Notes and documentation for progress in full stack course"
   ]
  },
  {
   "cell_type": "markdown",
   "metadata": {},
   "source": [
    "---\n",
    "\n",
    "# <a id=\"toc\">Table of Contents</a>\n",
    "\n",
    "---\n"
   ]
  },
  {
   "cell_type": "markdown",
   "metadata": {},
   "source": [
    "<ul type=\"none\">\n",
    "    <li>\n",
    "        <input type=\"checkbox\">\n",
    "        <a href=\"#0\">0 Fundamentals of Web apps</a>\n",
    "    </li>\n",
    "    <li>\n",
    "        <input type=\"checkbox\">\n",
    "        <a href=\"#1\">1 Introduction to React</a>\n",
    "    </li>\n",
    "    <li>\n",
    "        <input type=\"checkbox\">\n",
    "        <a href=\"#2\">2 Communicating with server</a>\n",
    "    </li>\n",
    "    <li>\n",
    "        <input type=\"checkbox\">\n",
    "        <a href=\"#3\">3 Programming a server with NodeJS and Express</a>\n",
    "    </li>\n",
    "    <li>\n",
    "        <input type=\"checkbox\">\n",
    "        <a href=\"#4\">4 Testing Express servers, user administration</a>\n",
    "    </li>\n",
    "    <li>\n",
    "        <input type=\"checkbox\">\n",
    "        <a href=\"#5\">5 Testing React apps</a>\n",
    "    </li>\n",
    "    <li>\n",
    "        <input type=\"checkbox\">\n",
    "        <a href=\"#6\">6 State management with Redux</a>\n",
    "    </li>\n",
    "    <li>\n",
    "        <input type=\"checkbox\">\n",
    "        <a href=\"#7\">7 React router, custom hooks, styling app with CSS and webpak</a>\n",
    "    </li>\n",
    "    <li>\n",
    "        <input type=\"checkbox\">\n",
    "        <a href=\"#8\">8 GraphQL</a>\n",
    "    </li>\n",
    "    <li>\n",
    "        <input type=\"checkbox\">\n",
    "        <a href=\"#9\">9 TypeScript</a>\n",
    "    </li>\n",
    "    <li>\n",
    "        <input type=\"checkbox\">\n",
    "        <a href=\"#10\">10 React Native</a>\n",
    "    </li>\n",
    "    <li>\n",
    "        <input type=\"checkbox\">\n",
    "        <a href=\"#11\">11 CI/CD</a>\n",
    "    </li>\n",
    "    <li>\n",
    "        <input type=\"checkbox\">\n",
    "        <a href=\"#12\">12 Containers</a>\n",
    "    </li>\n",
    "    <li>\n",
    "        <input type=\"checkbox\">\n",
    "        <a href=\"#13\">13 using relational databases</a>\n",
    "    </li>\n",
    "</ul>"
   ]
  },
  {
   "cell_type": "markdown",
   "metadata": {},
   "source": [
    "---\n",
    "\n",
    "# <a id=\"0\" href=\"https://fullstackopen.com/en/part0\">0 Fundamentals of Web apps</a>\n",
    "\n",
    "<a href=\"#top\">Top</a> | <a href=\"#toc\">Table of Contents</a>\n",
    "\n",
    "---\n"
   ]
  },
  {
   "cell_type": "markdown",
   "metadata": {},
   "source": [
    "---\n",
    "\n",
    "# <a id=\"1\" href=\"https://fullstackopen.com/en/part1\">1 Introduction to React</a>\n",
    "\n",
    "<a href=\"#top\">Top</a> | <a href=\"#toc\">Table of Contents</a>\n",
    "\n",
    "---\n"
   ]
  },
  {
   "cell_type": "markdown",
   "metadata": {},
   "source": [
    "---\n",
    "\n",
    "# <a id=\"2\" href=\"https://fullstackopen.com/en/part2\">2 Communicating with server</a>\n",
    "\n",
    "<a href=\"#top\">Top</a> | <a href=\"#toc\">Table of Contents</a>\n",
    "\n",
    "---\n"
   ]
  },
  {
   "cell_type": "markdown",
   "metadata": {},
   "source": [
    "---\n",
    "\n",
    "# <a id=\"3\" href=\"https://fullstackopen.com/en/part3\">3 Programming a server with NodeJS and Express</a>\n",
    "\n",
    "<a href=\"#top\">Top</a> | <a href=\"#toc\">Table of Contents</a>\n",
    "\n",
    "---\n"
   ]
  },
  {
   "cell_type": "markdown",
   "metadata": {},
   "source": [
    "---\n",
    "\n",
    "# <a id=\"4\" href=\"https://fullstackopen.com/en/part4\">4 Testing Express servers, user administration</a>\n",
    "\n",
    "<a href=\"#top\">Top</a> | <a href=\"#toc\">Table of Contents</a>\n",
    "\n",
    "---\n"
   ]
  },
  {
   "cell_type": "markdown",
   "metadata": {},
   "source": [
    "---\n",
    "\n",
    "# <a id=\"5\" href=\"https://fullstackopen.com/en/part5\">5 Testing React apps</a>\n",
    "\n",
    "<a href=\"#top\">Top</a> | <a href=\"#toc\">Table of Contents</a>\n",
    "\n",
    "---\n"
   ]
  },
  {
   "cell_type": "markdown",
   "metadata": {},
   "source": [
    "---\n",
    "\n",
    "# <a id=\"6\" href=\"https://fullstackopen.com/en/part6\">6 State management with Redux</a>\n",
    "\n",
    "<a href=\"#top\">Top</a> | <a href=\"#toc\">Table of Contents</a>\n",
    "\n",
    "---\n"
   ]
  },
  {
   "cell_type": "markdown",
   "metadata": {},
   "source": [
    "---\n",
    "\n",
    "# <a id=\"7\" href=\"https://fullstackopen.com/en/part7\">7 React router, custom hooks, styling app with CSS and webpak</a>\n",
    "\n",
    "<a href=\"#top\">Top</a> | <a href=\"#toc\">Table of Contents</a>\n",
    "\n",
    "---\n"
   ]
  },
  {
   "cell_type": "markdown",
   "metadata": {},
   "source": [
    "---\n",
    "\n",
    "# <a id=\"8\" href=\"https://fullstackopen.com/en/part8\">8 GraphQL</a>\n",
    "\n",
    "<a href=\"#top\">Top</a> | <a href=\"#toc\">Table of Contents</a>\n",
    "\n",
    "---\n"
   ]
  },
  {
   "cell_type": "markdown",
   "metadata": {},
   "source": [
    "---\n",
    "\n",
    "# <a id=\"9\" href=\"https://fullstackopen.com/en/part9\">9 TypeScript</a>\n",
    "\n",
    "<a href=\"#top\">Top</a> | <a href=\"#toc\">Table of Contents</a>\n",
    "\n",
    "---\n"
   ]
  },
  {
   "cell_type": "markdown",
   "metadata": {},
   "source": [
    "---\n",
    "\n",
    "# <a id=\"10\" href=\"https://fullstackopen.com/en/part10\">10 React Native</a>\n",
    "\n",
    "<a href=\"#top\">Top</a> | <a href=\"#toc\">Table of Contents</a>\n",
    "\n",
    "---\n"
   ]
  },
  {
   "cell_type": "markdown",
   "metadata": {},
   "source": [
    "---\n",
    "\n",
    "# <a id=\"11\" href=\"https://fullstackopen.com/en/part11\">11 CI/CD</a>\n",
    "\n",
    "<a href=\"#top\">Top</a> | <a href=\"#toc\">Table of Contents</a>\n",
    "\n",
    "---\n"
   ]
  },
  {
   "cell_type": "markdown",
   "metadata": {},
   "source": [
    "---\n",
    "\n",
    "# <a id=\"12\" href=\"https://fullstackopen.com/en/part12\">12 Containers</a>\n",
    "\n",
    "<a href=\"#top\">Top</a> | <a href=\"#toc\">Table of Contents</a>\n",
    "\n",
    "---\n"
   ]
  },
  {
   "cell_type": "markdown",
   "metadata": {},
   "source": [
    "---\n",
    "\n",
    "# <a id=\"13\" href=\"https://fullstackopen.com/en/part13\">13 using relational databases</a>\n",
    "\n",
    "<a href=\"#top\">Top</a> | <a href=\"#toc\">Table of Contents</a>\n",
    "\n",
    "---"
   ]
  }
 ],
 "metadata": {
  "kernelspec": {
   "display_name": "Python 3 (ipykernel)",
   "language": "python",
   "name": "python3"
  },
  "language_info": {
   "codemirror_mode": {
    "name": "ipython",
    "version": 3
   },
   "file_extension": ".py",
   "mimetype": "text/x-python",
   "name": "python",
   "nbconvert_exporter": "python",
   "pygments_lexer": "ipython3",
   "version": "3.10.4"
  }
 },
 "nbformat": 4,
 "nbformat_minor": 4
}
