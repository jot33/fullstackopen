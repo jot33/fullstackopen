{
 "cells": [
  {
   "cell_type": "markdown",
   "metadata": {},
   "source": [
    "---\n",
    "\n",
    "# <a id=\"top\">Full Stack Open Notes</a>\n",
    "\n",
    "https://www.fullstackopen.com/en\n",
    "\n",
    "---"
   ]
  },
  {
   "cell_type": "markdown",
   "metadata": {},
   "source": [
    "## Description\n",
    "\n",
    "Notes and documentation for progress in full stack course"
   ]
  },
  {
   "cell_type": "markdown",
   "metadata": {},
   "source": [
    "---\n",
    "\n",
    "# <a id=\"toc\">Table of Contents</a>\n",
    "\n",
    "---\n"
   ]
  },
  {
   "cell_type": "markdown",
   "metadata": {},
   "source": [
    "<ul type=\"none\">\n",
    "    <li>\n",
    "        <input type=\"checkbox\">\n",
    "        <a href=\"#0\">0 Fundamentals of Web apps</a>\n",
    "        <ul type=\"none\">\n",
    "            <li>\n",
    "                <input type=\"checkbox\"><a href=\"#0.1\">0.1 General Info</a>\n",
    "            </li>\n",
    "            <li>\n",
    "                <input type=\"checkbox\"><a href=\"#0.2\">0.2 Fundamentals of Web Apps</a>\n",
    "            </li>\n",
    "        </ul>\n",
    "    </li>\n",
    "    <li>\n",
    "        <input type=\"checkbox\">\n",
    "        <a href=\"#1\">1 Introduction to React</a>\n",
    "    </li>\n",
    "    <li>\n",
    "        <input type=\"checkbox\">\n",
    "        <a href=\"#2\">2 Communicating with server</a>\n",
    "    </li>\n",
    "    <li>\n",
    "        <input type=\"checkbox\">\n",
    "        <a href=\"#3\">3 Programming a server with NodeJS and Express</a>\n",
    "    </li>\n",
    "    <li>\n",
    "        <input type=\"checkbox\">\n",
    "        <a href=\"#4\">4 Testing Express servers, user administration</a>\n",
    "    </li>\n",
    "    <li>\n",
    "        <input type=\"checkbox\">\n",
    "        <a href=\"#5\">5 Testing React apps</a>\n",
    "    </li>\n",
    "    <li>\n",
    "        <input type=\"checkbox\">\n",
    "        <a href=\"#6\">6 State management with Redux</a>\n",
    "    </li>\n",
    "    <li>\n",
    "        <input type=\"checkbox\">\n",
    "        <a href=\"#7\">7 React router, custom hooks, styling app with CSS and webpak</a>\n",
    "    </li>\n",
    "    <li>\n",
    "        <input type=\"checkbox\">\n",
    "        <a href=\"#8\">8 GraphQL</a>\n",
    "    </li>\n",
    "    <li>\n",
    "        <input type=\"checkbox\">\n",
    "        <a href=\"#9\">9 TypeScript</a>\n",
    "    </li>\n",
    "    <li>\n",
    "        <input type=\"checkbox\">\n",
    "        <a href=\"#10\">10 React Native</a>\n",
    "    </li>\n",
    "    <li>\n",
    "        <input type=\"checkbox\">\n",
    "        <a href=\"#11\">11 CI/CD</a>\n",
    "    </li>\n",
    "    <li>\n",
    "        <input type=\"checkbox\">\n",
    "        <a href=\"#12\">12 Containers</a>\n",
    "    </li>\n",
    "    <li>\n",
    "        <input type=\"checkbox\">\n",
    "        <a href=\"#13\">13 using relational databases</a>\n",
    "    </li>\n",
    "</ul>"
   ]
  },
  {
   "cell_type": "markdown",
   "metadata": {},
   "source": [
    "---\n",
    "\n",
    "# <a id=\"0\" href=\"https://fullstackopen.com/en/part0\">0 Fundamentals of Web apps</a>\n",
    "\n",
    "<a href=\"#top\">Top</a> | <a href=\"#toc\">Table of Contents</a>\n",
    "\n",
    "---\n"
   ]
  },
  {
   "cell_type": "markdown",
   "metadata": {},
   "source": [
    "## <a id=\"0.1\" href=\"https://fullstackopen.com/en/part0/general_info\">0.1 General Info</a>"
   ]
  },
  {
   "cell_type": "markdown",
   "metadata": {},
   "source": [
    "***DO NOT TRY TO FOLLOW STEPS TO REGISTER IN THE BEGINNING IF YOU LIVE OUTSIDE OF FINLAND WITH AN ID ALREADY***\n",
    "\n",
    "- See **\"Sign up for the exam\"** section first.\n",
    "    - There are references to registering on **\"Open University\"** before this section that will send you into an infinite loop.\n",
    "    - You ***DO NOT*** need to register to start the course.\n",
    "    - Important note in this section:\n",
    "    > You only need the Moddle access for the exam, not for accessing the course certificate.\n",
    "    \n",
    "    > Credits for the course are only available to students who have successfully registered for the course through the Open University and completed the course according to the instructions\n",
    "- To start course, you ***ONLY*** need to use the [submission system](https://studies.cs.helsinki.fi/stats/courses/fullstackopen), which is simply creating a git repository and submitting links to the parts you complete.\n",
    "- ***AFTER*** you complete enough problems, you'll get a link to sign up for \"Open University\" that you'll need ***ONLY*** if you want to take the exam."
   ]
  },
  {
   "cell_type": "markdown",
   "metadata": {},
   "source": [
    "## <a id=\"0.2\" href=\"https://fullstackopen.com/en/part0/fundamentals_of_web_apps/\">0.2 Fundamentals of Web Apps</a>"
   ]
  },
  {
   "cell_type": "markdown",
   "metadata": {},
   "source": [
    "### Getting started"
   ]
  },
  {
   "cell_type": "markdown",
   "metadata": {},
   "source": [
    "- Open example app at: https://studies.cs.helsinki.fi/exampleapp/\n",
    "- Use Chrome developer tools with `F12` or `ctrl(option) shift(cmd) i`\n",
    "- Make sure *Network* tab is open and check *Disable cache*\n",
    "- Use *Preserve log*"
   ]
  },
  {
   "cell_type": "markdown",
   "metadata": {},
   "source": [
    "### HTTP Get"
   ]
  },
  {
   "cell_type": "markdown",
   "metadata": {},
   "source": [
    "- [HTTP explanation and tutorials](https://developer.mozilla.org/en-US/docs/Web/HTTP)\n",
    "    - HTTP = Hypertext Transfer Protocol\n",
    "    - HTTP is an \"application-layer\" protocol\n",
    "        - Specifies communication protocols and interface methods\n",
    "    - Follows \"client-server\" model\n",
    "        - *Servers* - provide resource or service\n",
    "        - *Clients* - request resources or services\n",
    "    - HTTP is a \"stateless protocol\"\n",
    "        - *Stateless protocol* - receiver must not retain session state from previous requests\n",
    "    - [HTTP overview](https://developer.mozilla.org/en-US/docs/Web/HTTP/Overview) - basics of client-server protocol\n",
    "    - [HTTP caching](https://developer.mozilla.org/en-US/docs/Web/HTTP/Caching) - useful for fast loading\n",
    "    - [HTTP Cookies](https://developer.mozilla.org/en-US/docs/Web/HTTP/Cookies) - Server can send `Set-Cookie` HTTP header with response.\n",
    "- *Network* tab of developer tools shows HTTP communication\n",
    "- *headers* Subtab under *Network* shows information about requests and responses\n",
    "- [Response Codes](https://en.wikipedia.org/wiki/List_of_HTTP_status_codes)\n",
    "    - 200 = OK (standard response)\n",
    "    - 304 = Not Modified (No need to retransmit source since client has previously-downloaded copy)"
   ]
  },
  {
   "cell_type": "markdown",
   "metadata": {},
   "source": [
    "### Traditional Web Apps"
   ]
  },
  {
   "cell_type": "markdown",
   "metadata": {},
   "source": [
    "- HTML homepage code:\n",
    "\n",
    "```\n",
    "const getFrontPageHtml = (noteCount) => {\n",
    "  return(`\n",
    "    <!DOCTYPE html>\n",
    "    <html>\n",
    "      <head>\n",
    "      </head>\n",
    "      <body>\n",
    "        <div class='container'>\n",
    "          <h1>Full stack example app</h1>\n",
    "          <p>number of notes created ${noteCount}</p>\n",
    "          <a href='/notes'>notes</a>\n",
    "          <img src='kuva.png' width='200' />\n",
    "        </div>\n",
    "      </body>\n",
    "    </html>\n",
    "`)\n",
    "} \n",
    "\n",
    "app.get('/', (req, res) => {\n",
    "  const page = getFrontPageHtml(notes.length)\n",
    "  res.send(page)\n",
    "})\n",
    "```\n",
    "\n",
    "- `noteCount` is replaced by return of `getFrontPageHtml(notes.length)`"
   ]
  },
  {
   "cell_type": "markdown",
   "metadata": {},
   "source": [
    "- fetching HTML data from server and running all app logic on server is an old practice\n",
    "- More recent solutions:\n",
    "    - Server created with JavaSpring\n",
    "    - Python Flask\n",
    "    - Ruby on Rails"
   ]
  },
  {
   "cell_type": "markdown",
   "metadata": {},
   "source": [
    "### Running app logic in browser"
   ]
  },
  {
   "cell_type": "markdown",
   "metadata": {},
   "source": [
    "- clear console with &#128683; or typing `clear()` in console\n",
    "    - side note: [HTML emoji codes](https://www.w3schools.com/charsets/ref_emoji.asp)\n",
    "- open [notes](https://studies.cs.helsinki.fi/exampleapp/notes) page\n",
    "- js can be opened specifically at: https://studies.cs.helsinki.fi/exampleapp/data.json\n",
    "- *Console* tab has log of scripts run from `console.log` command in JavasScript code"
   ]
  },
  {
   "cell_type": "markdown",
   "metadata": {},
   "source": [
    "### Event handlers and Callback functions"
   ]
  },
  {
   "cell_type": "markdown",
   "metadata": {},
   "source": [
    "- JavaScript Example\n",
    "\n",
    "```\n",
    "var xhttp = new XMLHttpRequest()\n",
    "\n",
    "xhttp.onreadystatechange = function() {\n",
    "  if (this.readyState == 4 && this.status == 200) {\n",
    "    // code that takes care of the server response\n",
    "  }\n",
    "}\n",
    "\n",
    "xhttp.open('GET', '/data.json', true)\n",
    "xhttp.send()\n",
    "```\n",
    "\n",
    "- event handler comes before request line (last line)\n",
    "- `xhttp.onreadystatechange...` = [callback](https://developer.mozilla.org/en-US/docs/Glossary/Callback_function) function\n",
    "  - Callback functions execute when event has occured"
   ]
  },
  {
   "cell_type": "markdown",
   "metadata": {},
   "source": [
    "### Document Object Model or DOM"
   ]
  },
  {
   "cell_type": "markdown",
   "metadata": {},
   "source": [
    "- HTML implicit tree structure\n",
    "```\n",
    "html\n",
    "  head\n",
    "    link\n",
    "    script\n",
    "  body\n",
    "    div\n",
    "      h1\n",
    "      div\n",
    "        ul\n",
    "          li\n",
    "          li\n",
    "          li\n",
    "      form\n",
    "        input\n",
    "        input\n",
    "```"
   ]
  },
  {
   "cell_type": "markdown",
   "metadata": {},
   "source": [
    "- *\"DOM\"* is an API which enables programmatic modification of the *element trees* corresponding to web-pages"
   ]
  },
  {
   "cell_type": "markdown",
   "metadata": {},
   "source": [
    "### Manipulating document-object from console"
   ]
  },
  {
   "cell_type": "markdown",
   "metadata": {},
   "source": [
    "- Topmost node of DOM tree is `document`\n",
    "    - Top node seen in *console* tab\n",
    "    - This node can be accessed by typing `document` in console.\n",
    "- Follow JavaScript commands in this section to manipulate page using console"
   ]
  },
  {
   "cell_type": "markdown",
   "metadata": {},
   "source": [
    "### CSS"
   ]
  },
  {
   "cell_type": "markdown",
   "metadata": {},
   "source": [
    "- *head* element contains `<link>` tag pointing to CSS style sheet\n",
    "    - [CSS Tutorial](https://www.w3schools.com/css/default.asp)\n",
    "    - [Specificity (Style Hierarchy)](https://www.w3schools.com/css/css_specificity.asp)\n",
    "        1. Inline Styles: `<h1 style=\"color:pink;\">`\n",
    "        2. IDs: `<nav id=\"navabar\">`\n",
    "            - modified in CSS with `#navbar`\n",
    "        3. Classes, pseudo-classes, attribute selectors:\n",
    "            - class: `<h1 class=\"thisclass\">` -> `.thisclass`\n",
    "            - pseudo-class: `a:hover`, `a:link`, etc.\n",
    "            - attribute selector: `<a href='link'>` -> `[href]`\n",
    "        4. Elements and pseudo-elements\n",
    "            - Element: `h1`, `div`, etc.\n",
    "            - Pseudo-element: `:before`\n",
    "    - Specificity Counting Examples (highest number wins)\n",
    "        - `p.test1.test.2` = 1 + 10 + 10 = 21\n",
    "        - `<p style=\"color:pink;\">` = 1000\n",
    "        - `#navbar p#demo` = 100 + 1 + 100 = 201\n",
    "- Check style attributes under **Elements** -> **Styles** in dev tools"
   ]
  },
  {
   "cell_type": "markdown",
   "metadata": {},
   "source": [
    "### Loading a page containing JavaScript - review\n"
   ]
  },
  {
   "cell_type": "markdown",
   "metadata": {},
   "source": [
    "\n",
    "- Server interaction for: https://studies.cs.helsinki.fi/exampleapp/notes\n",
    "\n",
    "![Server JavaScript](https://fullstackopen.com/static/7094858c9c7ec9149d10607e9e1d94bb/5a190/19e.png)"
   ]
  },
  {
   "cell_type": "markdown",
   "metadata": {},
   "source": [
    "### Forms and HTTP POST"
   ]
  },
  {
   "cell_type": "markdown",
   "metadata": {},
   "source": [
    "- Notes page contains [form-element](https://www.w3schools.com/html/html_forms.asp)\n",
    "- Submitting form creates `HTTP POST` request method\n",
    "- Generates [response code](https://en.wikipedia.org/wiki/List_of_HTTP_status_codes) 302\n",
    "    - 302 = Found (temporary redirect to look at another URL)"
   ]
  },
  {
   "cell_type": "markdown",
   "metadata": {},
   "source": [
    "### AJAX"
   ]
  },
  {
   "cell_type": "markdown",
   "metadata": {},
   "source": [
    "---\n",
    "\n",
    "# <a id=\"1\" href=\"https://fullstackopen.com/en/part1\">1 Introduction to React</a>\n",
    "\n",
    "<a href=\"#top\">Top</a> | <a href=\"#toc\">Table of Contents</a>\n",
    "\n",
    "---\n"
   ]
  },
  {
   "cell_type": "markdown",
   "metadata": {},
   "source": [
    "---\n",
    "\n",
    "# <a id=\"2\" href=\"https://fullstackopen.com/en/part2\">2 Communicating with server</a>\n",
    "\n",
    "<a href=\"#top\">Top</a> | <a href=\"#toc\">Table of Contents</a>\n",
    "\n",
    "---\n"
   ]
  },
  {
   "cell_type": "markdown",
   "metadata": {},
   "source": [
    "---\n",
    "\n",
    "# <a id=\"3\" href=\"https://fullstackopen.com/en/part3\">3 Programming a server with NodeJS and Express</a>\n",
    "\n",
    "<a href=\"#top\">Top</a> | <a href=\"#toc\">Table of Contents</a>\n",
    "\n",
    "---\n"
   ]
  },
  {
   "cell_type": "markdown",
   "metadata": {},
   "source": [
    "---\n",
    "\n",
    "# <a id=\"4\" href=\"https://fullstackopen.com/en/part4\">4 Testing Express servers, user administration</a>\n",
    "\n",
    "<a href=\"#top\">Top</a> | <a href=\"#toc\">Table of Contents</a>\n",
    "\n",
    "---\n"
   ]
  },
  {
   "cell_type": "markdown",
   "metadata": {},
   "source": [
    "---\n",
    "\n",
    "# <a id=\"5\" href=\"https://fullstackopen.com/en/part5\">5 Testing React apps</a>\n",
    "\n",
    "<a href=\"#top\">Top</a> | <a href=\"#toc\">Table of Contents</a>\n",
    "\n",
    "---\n"
   ]
  },
  {
   "cell_type": "markdown",
   "metadata": {},
   "source": [
    "---\n",
    "\n",
    "# <a id=\"6\" href=\"https://fullstackopen.com/en/part6\">6 State management with Redux</a>\n",
    "\n",
    "<a href=\"#top\">Top</a> | <a href=\"#toc\">Table of Contents</a>\n",
    "\n",
    "---\n"
   ]
  },
  {
   "cell_type": "markdown",
   "metadata": {},
   "source": [
    "---\n",
    "\n",
    "# <a id=\"7\" href=\"https://fullstackopen.com/en/part7\">7 React router, custom hooks, styling app with CSS and webpak</a>\n",
    "\n",
    "<a href=\"#top\">Top</a> | <a href=\"#toc\">Table of Contents</a>\n",
    "\n",
    "---\n"
   ]
  },
  {
   "cell_type": "markdown",
   "metadata": {},
   "source": [
    "---\n",
    "\n",
    "# <a id=\"8\" href=\"https://fullstackopen.com/en/part8\">8 GraphQL</a>\n",
    "\n",
    "<a href=\"#top\">Top</a> | <a href=\"#toc\">Table of Contents</a>\n",
    "\n",
    "---\n"
   ]
  },
  {
   "cell_type": "markdown",
   "metadata": {},
   "source": [
    "---\n",
    "\n",
    "# <a id=\"9\" href=\"https://fullstackopen.com/en/part9\">9 TypeScript</a>\n",
    "\n",
    "<a href=\"#top\">Top</a> | <a href=\"#toc\">Table of Contents</a>\n",
    "\n",
    "---\n"
   ]
  },
  {
   "cell_type": "markdown",
   "metadata": {},
   "source": [
    "---\n",
    "\n",
    "# <a id=\"10\" href=\"https://fullstackopen.com/en/part10\">10 React Native</a>\n",
    "\n",
    "<a href=\"#top\">Top</a> | <a href=\"#toc\">Table of Contents</a>\n",
    "\n",
    "---\n"
   ]
  },
  {
   "cell_type": "markdown",
   "metadata": {},
   "source": [
    "---\n",
    "\n",
    "# <a id=\"11\" href=\"https://fullstackopen.com/en/part11\">11 CI/CD</a>\n",
    "\n",
    "<a href=\"#top\">Top</a> | <a href=\"#toc\">Table of Contents</a>\n",
    "\n",
    "---\n"
   ]
  },
  {
   "cell_type": "markdown",
   "metadata": {},
   "source": [
    "---\n",
    "\n",
    "# <a id=\"12\" href=\"https://fullstackopen.com/en/part12\">12 Containers</a>\n",
    "\n",
    "<a href=\"#top\">Top</a> | <a href=\"#toc\">Table of Contents</a>\n",
    "\n",
    "---\n"
   ]
  },
  {
   "cell_type": "markdown",
   "metadata": {},
   "source": [
    "---\n",
    "\n",
    "# <a id=\"13\" href=\"https://fullstackopen.com/en/part13\">13 using relational databases</a>\n",
    "\n",
    "<a href=\"#top\">Top</a> | <a href=\"#toc\">Table of Contents</a>\n",
    "\n",
    "---"
   ]
  }
 ],
 "metadata": {
  "kernelspec": {
   "display_name": "Python 3 (ipykernel)",
   "language": "python",
   "name": "python3"
  },
  "language_info": {
   "codemirror_mode": {
    "name": "ipython",
    "version": 3
   },
   "file_extension": ".py",
   "mimetype": "text/x-python",
   "name": "python",
   "nbconvert_exporter": "python",
   "pygments_lexer": "ipython3",
   "version": "3.10.4"
  }
 },
 "nbformat": 4,
 "nbformat_minor": 4
}
